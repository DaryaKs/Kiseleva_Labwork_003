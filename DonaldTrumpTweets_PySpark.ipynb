{
  "nbformat": 4,
  "nbformat_minor": 0,
  "metadata": {
    "colab": {
      "name": "Kiseleva_Labwork_003.ipynb",
      "provenance": [],
      "collapsed_sections": [],
      "authorship_tag": "ABX9TyPxoy7ZO/RHD41VrKd6Fnl2",
      "include_colab_link": true
    },
    "kernelspec": {
      "name": "python3",
      "display_name": "Python 3"
    }
  },
  "cells": [
    {
      "cell_type": "markdown",
      "metadata": {
        "id": "view-in-github",
        "colab_type": "text"
      },
      "source": [
        "<a href=\"https://colab.research.google.com/github/DaryaKs/Uni/blob/master/DonaldTrumpTweets_PySpark.ipynb\" target=\"_parent\"><img src=\"https://colab.research.google.com/assets/colab-badge.svg\" alt=\"Open In Colab\"/></a>"
      ]
    },
    {
      "cell_type": "markdown",
      "metadata": {
        "id": "85Q-3tS198cU",
        "colab_type": "text"
      },
      "source": [
        "# Analyzing Donald Trump tweets using PySpark"
      ]
    },
    {
      "cell_type": "markdown",
      "metadata": {
        "id": "8WM9y0v1Ocf9",
        "colab_type": "text"
      },
      "source": [
        "***The code completed by a student from Higher School of Economics.***\n",
        "> ***Kiseleva Daria,***\n",
        "***Group MBD 191,***\n",
        "***Big Data Systems***"
      ]
    },
    {
      "cell_type": "markdown",
      "metadata": {
        "id": "B1KOtgnAK7Xk",
        "colab_type": "text"
      },
      "source": [
        "The dataset from Kaggle about Donald Trump tweets from Twitter was used in this script.\n",
        "https://www.kaggle.com/austinreese/trump-tweets\n",
        "\n",
        "The data set was taken from the official twitter account of Donald Trump: https://twitter.com/realDonaldTrump\n",
        "\n",
        "The script is counting top 10-20 most used words in Donald Trump tweets during 2009-2020 years.\n",
        "There is a description about how to install the dependencies to use Pyspark in Colab such as Spark and Java via MAC OS.\n",
        "\n",
        "The script is following steps from creating a DataFrame, cleaning the data and making final vizualization of top 20 most used words in official Donald Trump twitter account."
      ]
    },
    {
      "cell_type": "markdown",
      "metadata": {
        "id": "4_Gp_BtvI7zS",
        "colab_type": "text"
      },
      "source": [
        "**Installing part**"
      ]
    },
    {
      "cell_type": "code",
      "metadata": {
        "id": "Ja5eFb0p3kfI",
        "colab_type": "code",
        "colab": {}
      },
      "source": [
        "#Installing the dependencies to use Pyspark in Colab\n",
        "!apt-get install openjdk-8-jdk-headless -qq > /dev/null\n",
        "!wget -q hhttps://www.apache.org/dyn/closer.lua/spark/spark-2.4.5/spark-2.4.5-bin-hadoop2.7.tgz\n",
        "!tar xf spark-2.4.5-bin-hadoop2.7.tgz\n",
        "!pip install -q findspark\n",
        "#Spark and Java installed in Colab"
      ],
      "execution_count": 0,
      "outputs": []
    },
    {
      "cell_type": "code",
      "metadata": {
        "id": "lLPoYx7J4cwu",
        "colab_type": "code",
        "colab": {}
      },
      "source": [
        "#Setting the environment path that enables to run PySpark in Colab environment\n",
        "#configured for MAC OS\n",
        "import os\n",
        "os.environ[\"JAVA_HOME\"] = \"/usr/lib/jvm/java-8-openjdk-amd64\"\n",
        "os.environ[\"SPARK_HOME\"] = \"/content/spark-2.4.5-bin-hadoop2.7\""
      ],
      "execution_count": 0,
      "outputs": []
    },
    {
      "cell_type": "code",
      "metadata": {
        "id": "BR_lXn7q81fp",
        "colab_type": "code",
        "colab": {
          "base_uri": "https://localhost:8080/",
          "height": 34
        },
        "outputId": "80d74192-f1c4-4552-ad13-ee992efb91b7"
      },
      "source": [
        "#Checking if the path is correct by printing the path\n",
        "#If there is a list of sample files, the code will initialize without any 'index out of range' errors in next steps\n",
        "print(os.listdir('./sample_data'))"
      ],
      "execution_count": 17,
      "outputs": [
        {
          "output_type": "stream",
          "text": [
            "['anscombe.json', 'README.md', 'mnist_train_small.csv', 'california_housing_train.csv', 'mnist_test.csv', 'california_housing_test.csv']\n"
          ],
          "name": "stdout"
        }
      ]
    },
    {
      "cell_type": "code",
      "metadata": {
        "id": "_S-iV3pG5Ltc",
        "colab_type": "code",
        "colab": {
          "base_uri": "https://localhost:8080/",
          "height": 34
        },
        "outputId": "15beb9f9-0250-42d2-b2a9-dbab5035250d"
      },
      "source": [
        "#TEST CODE\n",
        "\n",
        "#Running a local spark session to test installation:\n",
        "#Simple calculations\n",
        "import findspark\n",
        "findspark.init()\n",
        "import pyspark\n",
        "import random\n",
        "sc = pyspark.SparkContext(appName=\"Pi\")\n",
        "num_samples = 100000000\n",
        "def inside(p):     \n",
        "  x, y = random.random(), random.random()\n",
        "  return x*x + y*y < 1\n",
        "count = sc.parallelize(range(0, num_samples)).filter(inside).count()\n",
        "pi = 4 * count / num_samples\n",
        "print(pi)\n",
        "sc.stop()"
      ],
      "execution_count": 18,
      "outputs": [
        {
          "output_type": "stream",
          "text": [
            "3.14162088\n"
          ],
          "name": "stdout"
        }
      ]
    },
    {
      "cell_type": "code",
      "metadata": {
        "id": "9ZT6TGGp9gVW",
        "colab_type": "code",
        "colab": {}
      },
      "source": [
        "#Importing necessary libraries\n",
        "from collections import Counter\n",
        "import re\n",
        "\n",
        "import pyspark\n",
        "from pyspark import SparkContext\n",
        "from pyspark.sql import Row\n",
        "from pyspark.sql import SQLContext\n",
        "from pyspark import SparkFiles\n",
        "from pyspark.sql import SparkSession\n",
        "from nltk.stem.snowball import SnowballStemmer\n",
        "\n",
        "from pyspark.sql.types import StructType, StructField, IntegerType, StringType, FloatType, ArrayType\n",
        "\n",
        "import pyspark.sql.functions as func\n",
        "from pyspark.sql.functions import *\n",
        "from pyspark.ml.feature import *\n",
        "\n",
        "import matplotlib.pyplot as plt"
      ],
      "execution_count": 0,
      "outputs": []
    },
    {
      "cell_type": "markdown",
      "metadata": {
        "id": "ckXb9JjV-D7O",
        "colab_type": "text"
      },
      "source": [
        "**Setting the Data Set**"
      ]
    },
    {
      "cell_type": "code",
      "metadata": {
        "id": "HnodNpCM955G",
        "colab_type": "code",
        "colab": {}
      },
      "source": [
        "spark = SparkSession.builder \\\n",
        "        .master(\"local\") \\\n",
        "        .appName(\"Trump\") \\\n",
        "        .config(\"spark.some.config.option\", \"some-value\") \\\n",
        "        .getOrCreate()"
      ],
      "execution_count": 0,
      "outputs": []
    },
    {
      "cell_type": "code",
      "metadata": {
        "id": "g7UMyzvN-gei",
        "colab_type": "code",
        "colab": {}
      },
      "source": [
        "#Creating DataFrames using a SQLContext\n",
        "sc = spark.sparkContext\n",
        "sqlContext = SQLContext(sc)"
      ],
      "execution_count": 0,
      "outputs": []
    },
    {
      "cell_type": "markdown",
      "metadata": {
        "id": "KqBjPWG2Jkp6",
        "colab_type": "text"
      },
      "source": [
        "Adding the data set \"trumptweets.csv\" to Files section in Colab"
      ]
    },
    {
      "cell_type": "code",
      "metadata": {
        "id": "X-YZjt3g-i6g",
        "colab_type": "code",
        "colab": {}
      },
      "source": [
        "df = sqlContext.read.format(\"csv\") \\\n",
        "    .option(\"header\", \"true\") \\\n",
        "    .option(\"mode\", \"DROPMALFORMED\") \\\n",
        "    .load(\"trumptweets.csv\")"
      ],
      "execution_count": 0,
      "outputs": []
    },
    {
      "cell_type": "code",
      "metadata": {
        "id": "i4dtdrso-6Kd",
        "colab_type": "code",
        "colab": {
          "base_uri": "https://localhost:8080/",
          "height": 204
        },
        "outputId": "b0cc2d22-fd29-4d61-9d9c-79e0eb4f5c91"
      },
      "source": [
        "#Printing the schema in a tree format\n",
        "df.printSchema()"
      ],
      "execution_count": 24,
      "outputs": [
        {
          "output_type": "stream",
          "text": [
            "root\n",
            " |-- id: string (nullable = true)\n",
            " |-- link: string (nullable = true)\n",
            " |-- content: string (nullable = true)\n",
            " |-- date: string (nullable = true)\n",
            " |-- retweets: string (nullable = true)\n",
            " |-- favorites: string (nullable = true)\n",
            " |-- mentions: string (nullable = true)\n",
            " |-- hashtags: string (nullable = true)\n",
            " |-- geo: string (nullable = true)\n",
            "\n"
          ],
          "name": "stdout"
        }
      ]
    },
    {
      "cell_type": "code",
      "metadata": {
        "id": "YzSdr_ei_J8L",
        "colab_type": "code",
        "colab": {
          "base_uri": "https://localhost:8080/",
          "height": 204
        },
        "outputId": "45776fb5-56f9-4174-8c4a-08a3de502ac4"
      },
      "source": [
        "#Showing the content of the fist 5 rows in the DataFrame using 4 specific colomns\n",
        "df.select('date','content','retweets','link').show(5, truncate = True)"
      ],
      "execution_count": 25,
      "outputs": [
        {
          "output_type": "stream",
          "text": [
            "+-------------------+--------------------+--------+--------------------+\n",
            "|               date|             content|retweets|                link|\n",
            "+-------------------+--------------------+--------+--------------------+\n",
            "|2009-05-04 20:54:25|Be sure to tune i...|     500|https://twitter.c...|\n",
            "|2009-05-05 03:00:10|Donald Trump will...|      33|https://twitter.c...|\n",
            "|2009-05-08 15:38:08|Donald Trump read...|      12|https://twitter.c...|\n",
            "|2009-05-08 22:40:15|New Blog Post: Ce...|      11|https://twitter.c...|\n",
            "|2009-05-12 16:07:28|\"\"\"My persona wil...|    1399|https://twitter.c...|\n",
            "+-------------------+--------------------+--------+--------------------+\n",
            "only showing top 5 rows\n",
            "\n"
          ],
          "name": "stdout"
        }
      ]
    },
    {
      "cell_type": "code",
      "metadata": {
        "id": "BPJY0lqk_r7d",
        "colab_type": "code",
        "colab": {
          "base_uri": "https://localhost:8080/",
          "height": 204
        },
        "outputId": "5d7f53fc-6607-4cc4-a521-32a77e5ad860"
      },
      "source": [
        "#Last 5 rows in the data set with all columns in the DataFrame\n",
        "df.orderBy('date', ascending=False).show(5, truncate = True)"
      ],
      "execution_count": 26,
      "outputs": [
        {
          "output_type": "stream",
          "text": [
            "+-------------------+--------------------+--------------------+-------------------+--------+---------+--------+--------+----+\n",
            "|                 id|                link|             content|               date|retweets|favorites|mentions|hashtags| geo|\n",
            "+-------------------+--------------------+--------------------+-------------------+--------+---------+--------+--------+----+\n",
            "|1219076533354037249|https://twitter.c...|A great show! Che...|2020-01-20 02:57:49|    7947|    34902|       @|    null|null|\n",
            "|1219066007731310593|https://twitter.c...|“In the House, th...|2020-01-20 02:16:00|   20599|    81921|   @ @ @|    null|null|\n",
            "|1219053709428248576|https://twitter.c...|I was thrilled to...|2020-01-20 01:27:07|   16588|    66944|    null|       #|null|\n",
            "|1219004689716412416|https://twitter.c...|Now Mini Mike Blo...|2020-01-19 22:12:20|   36239|   149571|    null|    null|null|\n",
            "|1218962544372670467|https://twitter.c...|I have never seen...|2020-01-19 19:24:52|   32620|   213817|    null|    null|null|\n",
            "+-------------------+--------------------+--------------------+-------------------+--------+---------+--------+--------+----+\n",
            "only showing top 5 rows\n",
            "\n"
          ],
          "name": "stdout"
        }
      ]
    },
    {
      "cell_type": "markdown",
      "metadata": {
        "id": "woV1TErz_4Dj",
        "colab_type": "text"
      },
      "source": [
        "The data set contains tweets from 2009 till 2020 year. Each row conatins a link to the tweet, text from it, date, number of retweets, hashtags and other information."
      ]
    },
    {
      "cell_type": "markdown",
      "metadata": {
        "id": "_NR3NfAxASLd",
        "colab_type": "text"
      },
      "source": [
        "**Counting the number of words in the data set**"
      ]
    },
    {
      "cell_type": "code",
      "metadata": {
        "id": "YDZtVbqW_1dZ",
        "colab_type": "code",
        "colab": {
          "base_uri": "https://localhost:8080/",
          "height": 51
        },
        "outputId": "9a8057ab-190b-4e89-d5fc-cdebc3a62c91"
      },
      "source": [
        "print('Amount of words in all Donald Trump tweets:')\n",
        "print(df.withColumn('word', func.explode(func.split(func.col('content'), ' '))).count())"
      ],
      "execution_count": 27,
      "outputs": [
        {
          "output_type": "stream",
          "text": [
            "Amount of words in all Donald Trump tweets:\n",
            "813087\n"
          ],
          "name": "stdout"
        }
      ]
    },
    {
      "cell_type": "markdown",
      "metadata": {
        "id": "tegaAGHaAZIA",
        "colab_type": "text"
      },
      "source": [
        "**10 most popular words**"
      ]
    },
    {
      "cell_type": "code",
      "metadata": {
        "id": "r6EdMDf9AXgW",
        "colab_type": "code",
        "colab": {
          "base_uri": "https://localhost:8080/",
          "height": 289
        },
        "outputId": "037f3917-75e3-4ba4-fd67-0bc11c23a101"
      },
      "source": [
        "df.withColumn('word', func.explode(func.split(func.col('content'), ' ')))\\\n",
        "    .groupBy('word')\\\n",
        "    .count()\\\n",
        "    .sort('count', ascending=False)\\\n",
        "    .show(10)"
      ],
      "execution_count": 28,
      "outputs": [
        {
          "output_type": "stream",
          "text": [
            "+----+-----+\n",
            "|word|count|\n",
            "+----+-----+\n",
            "|   @|37500|\n",
            "| the|25969|\n",
            "|  to|17307|\n",
            "| and|13079|\n",
            "|   a|11980|\n",
            "|  of|11716|\n",
            "|  is|11074|\n",
            "|  in| 9930|\n",
            "| \"\"\"| 9315|\n",
            "| for| 8529|\n",
            "+----+-----+\n",
            "only showing top 10 rows\n",
            "\n"
          ],
          "name": "stdout"
        }
      ]
    },
    {
      "cell_type": "markdown",
      "metadata": {
        "id": "KnQ3tTfKAdfC",
        "colab_type": "text"
      },
      "source": [
        "All tweets contain words with less than 3 letters. In need to clean the data to perform interesting analytics."
      ]
    },
    {
      "cell_type": "markdown",
      "metadata": {
        "id": "5uc_z0G2HRId",
        "colab_type": "text"
      },
      "source": [
        "**Cleaning the content of tweets**"
      ]
    },
    {
      "cell_type": "code",
      "metadata": {
        "id": "81sj9iYzHPrQ",
        "colab_type": "code",
        "colab": {}
      },
      "source": [
        "# Clean text\n",
        "df_clean = df.select('date','retweets','link', (lower(regexp_replace('content', \"[^a-zA-Z\\\\s]\", \"\")).alias('content')))\n",
        "\n",
        "# Tokenize text\n",
        "tokenizer = Tokenizer(inputCol='content', outputCol='words_token')\n",
        "df_words_token = tokenizer.transform(df_clean).select('date','retweets','link', 'words_token')\n",
        "\n",
        "# Remove stop words\n",
        "remover = StopWordsRemover(inputCol='words_token', outputCol='words_clean')\n",
        "df_words_no_stopw = remover.transform(df_words_token).select('date','retweets','link', 'words_clean')\n",
        "\n",
        "# Stem text\n",
        "# Stemmers remove morphological affixes from words, leaving only the word stem.\n",
        "#I do not need it.\n",
        "\n",
        "#stemmer = SnowballStemmer(language='english')\n",
        "#stemmer_udf = udf(lambda tokens: [stemmer.stem(token) for token in tokens], ArrayType(StringType()))\n",
        "#df_stemmed = df_words_no_stopw.withColumn(\"words_stemmed\", stemmer_udf(\"words_clean\")).select('date','retweets','link', 'words_stemmed')\n",
        "\n",
        "# Filter length word > 3\n",
        "filter_length_udf = udf(lambda row: [x for x in row if len(x) >= 3], ArrayType(StringType()))\n",
        "df_final_words = df_words_no_stopw.withColumn('words', filter_length_udf(col('words_clean')))"
      ],
      "execution_count": 0,
      "outputs": []
    },
    {
      "cell_type": "code",
      "metadata": {
        "id": "EVh6QEUCHZtV",
        "colab_type": "code",
        "colab": {}
      },
      "source": [
        "#Convert array string to string\n",
        "df_cleaned = df_final_words.withColumn('words', concat_ws(\" \", col(\"words\")))"
      ],
      "execution_count": 0,
      "outputs": []
    },
    {
      "cell_type": "markdown",
      "metadata": {
        "id": "Q4q_T6K1Hglo",
        "colab_type": "text"
      },
      "source": [
        "Showing 5 rows of the string made from the column \"context\" without small words like articles and prepositions."
      ]
    },
    {
      "cell_type": "code",
      "metadata": {
        "id": "YLV4W-tSHbej",
        "colab_type": "code",
        "colab": {
          "base_uri": "https://localhost:8080/",
          "height": 204
        },
        "outputId": "eee5db98-f792-4c71-d75f-966935a396a0"
      },
      "source": [
        "df_cleaned.select('words').show(5, truncate = False)"
      ],
      "execution_count": 31,
      "outputs": [
        {
          "output_type": "stream",
          "text": [
            "+------------------------------------------------------------------------------------------------------+\n",
            "|words                                                                                                 |\n",
            "+------------------------------------------------------------------------------------------------------+\n",
            "|sure tune watch donald trump late night david letterman presents top ten list tonight                 |\n",
            "|donald trump appearing view tomorrow morning discuss celebrity apprentice new book think like champion|\n",
            "|donald trump reads top ten financial tips late show david letterman httptinyurlcomooafwn funny        |\n",
            "|new blog post celebrity apprentice finale lessons learned along way httptinyurlcomqluxe               |\n",
            "|persona never wallflower rather build walls cling donald trump                                        |\n",
            "+------------------------------------------------------------------------------------------------------+\n",
            "only showing top 5 rows\n",
            "\n"
          ],
          "name": "stdout"
        }
      ]
    },
    {
      "cell_type": "markdown",
      "metadata": {
        "id": "aNpHHrtnH-gK",
        "colab_type": "text"
      },
      "source": [
        "**20 most popular LONG words**"
      ]
    },
    {
      "cell_type": "code",
      "metadata": {
        "id": "mZTUKE9jHzBD",
        "colab_type": "code",
        "colab": {
          "base_uri": "https://localhost:8080/",
          "height": 459
        },
        "outputId": "0ab0c9f2-a9c8-407a-d62d-208b5461e4fd"
      },
      "source": [
        "df_cleaned.withColumn('word', func.explode(func.split(func.col('words'), ' ')))\\\n",
        "    .groupBy('word')\\\n",
        "    .count()\\\n",
        "    .sort('count', ascending=False)\\\n",
        "    .show(20)"
      ],
      "execution_count": 36,
      "outputs": [
        {
          "output_type": "stream",
          "text": [
            "+---------------+-----+\n",
            "|           word|count|\n",
            "+---------------+-----+\n",
            "|realdonaldtrump| 8356|\n",
            "|          great| 5830|\n",
            "|          trump| 5364|\n",
            "|      president| 2622|\n",
            "|          thank| 2599|\n",
            "|         people| 2363|\n",
            "|         thanks| 1848|\n",
            "|            new| 1786|\n",
            "|            get| 1714|\n",
            "|        country| 1663|\n",
            "|         donald| 1663|\n",
            "|           like| 1516|\n",
            "|        america| 1497|\n",
            "|           time| 1493|\n",
            "|            big| 1492|\n",
            "|           good| 1491|\n",
            "|          obama| 1409|\n",
            "|            one| 1404|\n",
            "|           make| 1393|\n",
            "|           dont| 1342|\n",
            "+---------------+-----+\n",
            "only showing top 20 rows\n",
            "\n"
          ],
          "name": "stdout"
        }
      ]
    },
    {
      "cell_type": "code",
      "metadata": {
        "id": "TffbzxH1IEGm",
        "colab_type": "code",
        "colab": {
          "base_uri": "https://localhost:8080/",
          "height": 68
        },
        "outputId": "901cc38a-2032-440f-cdfb-765711b29080"
      },
      "source": [
        "!pip install wordcloud"
      ],
      "execution_count": 33,
      "outputs": [
        {
          "output_type": "stream",
          "text": [
            "Requirement already satisfied: wordcloud in /usr/local/lib/python3.6/dist-packages (1.5.0)\n",
            "Requirement already satisfied: numpy>=1.6.1 in /usr/local/lib/python3.6/dist-packages (from wordcloud) (1.18.4)\n",
            "Requirement already satisfied: pillow in /usr/local/lib/python3.6/dist-packages (from wordcloud) (7.0.0)\n"
          ],
          "name": "stdout"
        }
      ]
    },
    {
      "cell_type": "code",
      "metadata": {
        "id": "k29-FyUgIF4g",
        "colab_type": "code",
        "colab": {}
      },
      "source": [
        "top_words=df_cleaned.withColumn('word', func.explode(func.split(func.col('words'), ' ')))\\\n",
        "    .groupBy('word')\\\n",
        "    .count()\\\n",
        "    .sort('count', ascending=False)\\\n",
        "    .select('word').collect()[:20]\n",
        "text2=[str(row['word']) for row in top_words]\n",
        "text=\" \".join(text2)"
      ],
      "execution_count": 0,
      "outputs": []
    },
    {
      "cell_type": "markdown",
      "metadata": {
        "id": "blxe_kxNIICc",
        "colab_type": "text"
      },
      "source": [
        "**Vizualization of the result**"
      ]
    },
    {
      "cell_type": "code",
      "metadata": {
        "id": "4ezaj-d4IL1L",
        "colab_type": "code",
        "colab": {
          "base_uri": "https://localhost:8080/",
          "height": 198
        },
        "outputId": "5021c49e-3066-4032-fa29-bfac1744e416"
      },
      "source": [
        "from wordcloud import WordCloud\n",
        "\n",
        "wordcloud=WordCloud(stopwords=[], background_color='white', colormap='plasma', collocations=False)\\\n",
        ".generate(text)\n",
        "plt.imshow(wordcloud,interpolation='bilinear')\n",
        "plt.axis('off')\n",
        "plt.margins(x=0,y=0)\n",
        "plt.show()"
      ],
      "execution_count": 38,
      "outputs": [
        {
          "output_type": "display_data",
          "data": {
            "image/png": "[encoded data removed]",
            "text/plain": [
              "<Figure size 432x288 with 1 Axes>"
            ]
          },
          "metadata": {
            "tags": [],
            "needs_background": "light"
          }
        }
      ]
    },
    {
      "cell_type": "markdown",
      "metadata": {
        "id": "5X2hHO1IIbpb",
        "colab_type": "text"
      },
      "source": [
        "***Make America Great Again***"
      ]
    },
    {
      "cell_type": "markdown",
      "metadata": {
        "id": "-jc1ojheInxV",
        "colab_type": "text"
      },
      "source": [
        "![alt text](https://i.insider.com/555246276da8114c57fe49d6?width=1100&format=jpeg&auto=webp)"
      ]
    }
  ]
}